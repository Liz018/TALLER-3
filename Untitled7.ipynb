{
  "nbformat": 4,
  "nbformat_minor": 0,
  "metadata": {
    "colab": {
      "provenance": [],
      "authorship_tag": "ABX9TyOUoXBiKSuXReai3porEKK8",
      "include_colab_link": true
    },
    "kernelspec": {
      "name": "python3",
      "display_name": "Python 3"
    },
    "language_info": {
      "name": "python"
    }
  },
  "cells": [
    {
      "cell_type": "markdown",
      "metadata": {
        "id": "view-in-github",
        "colab_type": "text"
      },
      "source": [
        "<a href=\"https://colab.research.google.com/github/Liz018/TALLER-3/blob/main/Untitled7.ipynb\" target=\"_parent\"><img src=\"https://colab.research.google.com/assets/colab-badge.svg\" alt=\"Open In Colab\"/></a>"
      ]
    },
    {
      "cell_type": "code",
      "execution_count": null,
      "metadata": {
        "id": "l19ISDFjM704"
      },
      "outputs": [],
      "source": [
        "import random\n",
        "\n",
        "\n",
        "def juego_cara_o_sello():\n",
        "    puntos = 0\n",
        "# Preguntar al usuario si desea jugar\n",
        "    respuesta = input(\"¿Deseas jugar a Cara o Sello? (si/no): \")\n",
        "\n",
        "    while respuesta == \"si\" or respuesta == \"SI\":\n",
        "        intentos = 3\n",
        "\n",
        "        while intentos > 0:\n",
        "\n",
        "            resultado = random.choice([\"cara\", \"sello\"])\n",
        "\n",
        "            # Pedir al usuario que adivine\n",
        "            adivinanza = input(\"Adivina: cara o sello: \")\n",
        "\n",
        "            # Verificar si la adivinanza es correcta\n",
        "            if adivinanza == \"cara\" or adivinanza == \"CARA\":\n",
        "                adivinanza = \"cara\"\n",
        "            elif adivinanza == \"sello\" or adivinanza == \"SELLO\":\n",
        "                adivinanza = \"sello\"\n",
        "\n",
        "            if adivinanza == resultado:\n",
        "                puntos += 1\n",
        "                print(f\"¡Correcto! Tienes {puntos} punto(s).\")\n",
        "            else:\n",
        "                intentos -= 1\n",
        "                print(f\"Incorrecto. Te quedan {intentos} intento(s).\")\n",
        "\n",
        "\n",
        "        print(f\"Te has quedado sin intentos. Has conseguido {puntos} punto(s).\")\n",
        "\n",
        "\n",
        "        respuesta = input(\"¿Deseas jugar de nuevo? (si/no): \")\n",
        "\n",
        "        if respuesta == \"si\" or respuesta == \"SI\":\n",
        "            puntos = 0\n",
        "\n",
        "\n",
        "    print(\"Fin del juego.\")\n",
        "\n",
        "\n",
        "juego_cara_o_sello()\n"
      ]
    },
    {
      "cell_type": "code",
      "source": [
        "def calcular_promedio_ponderado():\n",
        "    suma_productos = 0\n",
        "    suma_pesos = 0\n",
        "    continuar = \"si\"\n",
        "\n",
        "    while continuar.lower() == \"si\":\n",
        "      nota = float(input(\"Ingrese la calificacion: \"))\n",
        "      peso = float(input(\"Ingrese el porcentaje (sin %): \"))\n",
        "\n",
        "      suma_productos += nota * peso\n",
        "      suma_pesos += peso\n",
        "\n",
        "      continuar = input(\"¿Desea ingresar otra nota? (si/no): \")\n",
        "\n",
        "    if suma_pesos > 0:\n",
        "      promedio = suma_productos / suma_pesos\n",
        "      print(f\"El promedio ponderado es: {promedio:.2f}\")\n",
        "    else:\n",
        "      print(\"No se ingresaron notas válidas.\")\n",
        "\n",
        "calcular_promedio_ponderado()"
      ],
      "metadata": {
        "id": "Jry-tYw7i4cf"
      },
      "execution_count": null,
      "outputs": []
    },
    {
      "cell_type": "code",
      "source": [],
      "metadata": {
        "id": "NEeDddpriAbc"
      },
      "execution_count": null,
      "outputs": []
    }
  ]
}